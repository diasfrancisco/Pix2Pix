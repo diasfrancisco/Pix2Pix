{
 "cells": [
  {
   "cell_type": "code",
   "execution_count": null,
   "metadata": {},
   "outputs": [
    {
     "ename": "",
     "evalue": "",
     "output_type": "error",
     "traceback": [
      "\u001b[1;31mRunning cells with 'pix' requires ipykernel package.\n",
      "\u001b[1;31mRun the following command to install 'ipykernel' into the Python environment. \n",
      "\u001b[1;31mCommand: 'conda install -n pix ipykernel --update-deps --force-reinstall'"
     ]
    }
   ],
   "source": [
    "import config\n",
    "from boto3 import client\n",
    "\n",
    "conn = client('s3')\n",
    "for key in conn.list_objects(Bucket=config.S3_BUCKET)['Contents']:\n",
    "    print(key['Key'])"
   ]
  }
 ],
 "metadata": {
  "kernelspec": {
   "display_name": "pix",
   "language": "python",
   "name": "python3"
  },
  "language_info": {
   "name": "python",
   "version": "3.10.9 (main, Jan 11 2023, 15:21:40) [GCC 11.2.0]"
  },
  "orig_nbformat": 4,
  "vscode": {
   "interpreter": {
    "hash": "e879380d29e8a01248e86dc25173fb9cc37b7d2562141192d6e1460dbe62e138"
   }
  }
 },
 "nbformat": 4,
 "nbformat_minor": 2
}
