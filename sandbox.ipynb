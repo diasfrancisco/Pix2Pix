{
 "cells": [],
 "metadata": {
  "kernelspec": {
   "display_name": "pix",
   "language": "python",
   "name": "python3"
  },
  "language_info": {
   "name": "python",
   "version": "3.10.9 (main, Jan 11 2023, 15:21:40) [GCC 11.2.0]"
  },
  "orig_nbformat": 4,
  "vscode": {
   "interpreter": {
    "hash": "e879380d29e8a01248e86dc25173fb9cc37b7d2562141192d6e1460dbe62e138"
   }
  }
 },
 "nbformat": 4,
 "nbformat_minor": 2
}
